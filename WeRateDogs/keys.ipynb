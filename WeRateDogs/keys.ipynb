{
 "cells": [
  {
   "cell_type": "code",
   "execution_count": 1,
   "id": "4e27f6c3",
   "metadata": {},
   "outputs": [],
   "source": [
    "api_key = 'hjQzLSNav7P5Y5GRtgvwDMdIe'\n",
    "\n",
    "api_key_secret = 'ddmwtOZU0cmPicnXKbBhKEKkT7Q58RBmN1eujzIqjCrMCXTkcE'\n",
    "\n",
    "bearer_token = 'AAAAAAAAAAAAAAAAAAAAAAb8dwEAAAAAfgJwhmZLaz4z7rqmTy%2Bv0Fr13M8%3DrgqvWQjTka0G2Yn3x6WHcKMxMEM5BMIHwFgm2XfapnSG36sA40'\n",
    "\n",
    "access_token = '1177606207776968704-2MphpM6JfO6wJRAVqDfagFSZcmZbDi'\n",
    "\n",
    "access_token_secret = 'atBTr5RUqEmrhTsRrK3uKfGLxGeOPJxW2hyV6e7DQd8bU'"
   ]
  },
  {
   "cell_type": "code",
   "execution_count": null,
   "id": "15b0c992",
   "metadata": {},
   "outputs": [],
   "source": []
  }
 ],
 "metadata": {
  "kernelspec": {
   "display_name": "Python 3",
   "language": "python",
   "name": "python3"
  },
  "language_info": {
   "codemirror_mode": {
    "name": "ipython",
    "version": 3
   },
   "file_extension": ".py",
   "mimetype": "text/x-python",
   "name": "python",
   "nbconvert_exporter": "python",
   "pygments_lexer": "ipython3",
   "version": "3.8.8"
  }
 },
 "nbformat": 4,
 "nbformat_minor": 5
}
